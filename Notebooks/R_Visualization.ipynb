{
  "nbformat": 4,
  "nbformat_minor": 0,
  "metadata": {
    "kernelspec": {
      "name": "ir",
      "display_name": "R",
      "language": "R"
    },
    "language_info": {
      "name": "R",
      "codemirror_mode": "r",
      "pygments_lexer": "r",
      "mimetype": "text/x-r-source",
      "file_extension": ".r",
      "version": "3.6.3"
    },
    "colab": {
      "name": "R Visualization.ipynb",
      "provenance": [],
      "include_colab_link": true
    }
  },
  "cells": [
    {
      "cell_type": "markdown",
      "metadata": {
        "id": "view-in-github",
        "colab_type": "text"
      },
      "source": [
        "<a href=\"https://colab.research.google.com/github/SmartPracticeschool/SBSPS-Challenge-2700-Twitter-Sentiment-Analysis-Extraction-for-COVID-19/blob/master/Notebooks/R_Visualization.ipynb\" target=\"_parent\"><img src=\"https://colab.research.google.com/assets/colab-badge.svg\" alt=\"Open In Colab\"/></a>"
      ]
    },
    {
      "cell_type": "code",
      "metadata": {
        "_uuid": "16b25ec029df1bc05f5b3882f9bd92f14a84f970",
        "_cell_guid": "14b3f40f-85d5-4ba0-9533-75f65c1e0615",
        "trusted": true,
        "id": "Sb-fGYwKL-ZE",
        "colab_type": "code",
        "colab": {},
        "outputId": "88439ea2-a190-4375-960c-9b844fb7fc73"
      },
      "source": [
        "# this line will read in the \"tidyverse\" package. An R package is a collection\n",
        "# of special functions (and sometimes data). Before you use can use the functions in a\n",
        "# package, though, you need to tell R that you want it to use that package using the\n",
        "# library() function.\n",
        "\n",
        "library(tidyverse)"
      ],
      "execution_count": null,
      "outputs": [
        {
          "output_type": "stream",
          "text": [
            "── \u001b[1mAttaching packages\u001b[22m ─────────────────────────────────────── tidyverse 1.3.0 ──\n",
            "\n",
            "\u001b[32m✔\u001b[39m \u001b[34mggplot2\u001b[39m 3.3.1.\u001b[31m9000\u001b[39m     \u001b[32m✔\u001b[39m \u001b[34mpurrr  \u001b[39m 0.3.4     \n",
            "\u001b[32m✔\u001b[39m \u001b[34mtibble \u001b[39m 3.0.1          \u001b[32m✔\u001b[39m \u001b[34mdplyr  \u001b[39m 1.0.0     \n",
            "\u001b[32m✔\u001b[39m \u001b[34mtidyr  \u001b[39m 1.1.0          \u001b[32m✔\u001b[39m \u001b[34mstringr\u001b[39m 1.4.0     \n",
            "\u001b[32m✔\u001b[39m \u001b[34mreadr  \u001b[39m 1.3.1          \u001b[32m✔\u001b[39m \u001b[34mforcats\u001b[39m 0.5.0     \n",
            "\n",
            "── \u001b[1mConflicts\u001b[22m ────────────────────────────────────────── tidyverse_conflicts() ──\n",
            "\u001b[31m✖\u001b[39m \u001b[34mdplyr\u001b[39m::\u001b[32mfilter()\u001b[39m masks \u001b[34mstats\u001b[39m::filter()\n",
            "\u001b[31m✖\u001b[39m \u001b[34mdplyr\u001b[39m::\u001b[32mlag()\u001b[39m    masks \u001b[34mstats\u001b[39m::lag()\n",
            "\n"
          ],
          "name": "stderr"
        }
      ]
    },
    {
      "cell_type": "markdown",
      "metadata": {
        "_uuid": "8203c7c42d0d3656b96beb45934711102687e7c7",
        "_cell_guid": "77acb30b-253b-4ab4-af5b-21c130cda200",
        "id": "Xxnua01XL-ZY",
        "colab_type": "text"
      },
      "source": [
        "Alright, now that we've read in the package we need, we're ready to read in data. We can do this using the read_csv() function (which was in the package we just read in--if you try to use this function without loading the package using library() first, you'll get an error!).\n",
        "\n",
        "Let's read  in our file. This file is a .csv file. \"csv\" stands for \"comma separated values\". You can save any spreadsheet at a .csv file, and that will make it easier to read and analyze later: many file types that you can save spreadsheets as can only be read by one specific program. A .csv can be read by pretty much any program.\n",
        "\n",
        "For this tutorial, we'll be using a dataset of ratings of different chocolate bars. You can learn more about this dataset by clicking on the plus sign (+) next to \"input files\" at the top of the page."
      ]
    },
    {
      "cell_type": "code",
      "metadata": {
        "trusted": true,
        "id": "RPLxR6SAL-Za",
        "colab_type": "code",
        "colab": {}
      },
      "source": [
        "bigramData <- read_csv(\"../input/r1-data\")"
      ],
      "execution_count": null,
      "outputs": []
    },
    {
      "cell_type": "code",
      "metadata": {
        "trusted": true,
        "id": "j7LBguvpL-Zl",
        "colab_type": "code",
        "colab": {}
      },
      "source": [
        "library(dplyr)\n",
        "library(tidyr)\n",
        "library(tidytext)\n",
        "library(ggplot2)\n",
        "library(igraph)\n",
        "library(ggraph)\n",
        "\n",
        "count_bigrams <- function(dataset) {\n",
        "  dataset %>%\n",
        "    unnest_tokens(bigram, text, token = \"ngrams\", n = 2) %>%\n",
        "    separate(bigram, c(\"word1\", \"word2\"), sep = \" \") %>%\n",
        "    filter(!word1 %in% stop_words$word,\n",
        "           !word2 %in% stop_words$word) %>%\n",
        "    count(word1, word2, sort = TRUE)\n",
        "}\n",
        "\n",
        "visualize_bigrams <- function(bigrams) {\n",
        "  set.seed(2016)\n",
        "  a <- grid::arrow(type = \"closed\", length = unit(.15, \"inches\"))\n",
        "  \n",
        "  bigrams %>%\n",
        "    graph_from_data_frame() %>%\n",
        "    ggraph(layout = \"fr\") +\n",
        "    geom_edge_link(aes(edge_alpha = n), show.legend = FALSE, arrow = a) +\n",
        "    geom_node_point(color = \"lightblue\", size = 5) +\n",
        "    geom_node_text(aes(label = name), vjust = 1, hjust = 1) +\n",
        "    theme_void()\n",
        "}"
      ],
      "execution_count": null,
      "outputs": []
    },
    {
      "cell_type": "code",
      "metadata": {
        "trusted": true,
        "id": "su0QxFAQL-Zw",
        "colab_type": "code",
        "colab": {}
      },
      "source": [
        "library(stringr)\n",
        "png(file=\"vinay.png\",\n",
        "width=600, height=600)\n",
        "# filter out rare combinations, as well as digits\n",
        "bigramData %>%\n",
        "  filter(n > 20,\n",
        "         !str_detect(word1, \"\\\\d\"),\n",
        "         !str_detect(word2, \"\\\\d\")) %>%\n",
        "  visualize_bigrams()\n",
        "dev.off()"
      ],
      "execution_count": null,
      "outputs": []
    }
  ]
}